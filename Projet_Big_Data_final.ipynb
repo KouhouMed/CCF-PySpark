{
  "cells": [
    {
      "cell_type": "markdown",
      "source": [
        "## Projet Big Data : Fast and Scalable Connected Component Computation in MapReduce\n",
        "\n",
        "* Min HUANG\n",
        "* Mounia ZRIGUI\n",
        "* Mohamed KOUHOU"
      ],
      "metadata": {
        "id": "zESLVtNzNsEQ"
      }
    },
    {
      "cell_type": "code",
      "execution_count": 6,
      "metadata": {
        "application/vnd.databricks.v1+cell": {
          "cellMetadata": {
            "byteLimit": 2048000,
            "rowLimit": 10000
          },
          "inputWidgets": {},
          "nuid": "56493659-d0bc-452e-8bbc-5912c9592d80",
          "showTitle": false,
          "title": ""
        },
        "id": "quajUngXCNG4"
      },
      "outputs": [],
      "source": [
        "from pyspark import SparkConf\n",
        "from pyspark.context import SparkContext\n",
        "sc = SparkContext.getOrCreate(SparkConf().setMaster(\"local[*]\"))"
      ]
    },
    {
      "cell_type": "code",
      "execution_count": 7,
      "metadata": {
        "application/vnd.databricks.v1+cell": {
          "cellMetadata": {
            "byteLimit": 2048000,
            "rowLimit": 10000
          },
          "inputWidgets": {},
          "nuid": "1635c880-2c52-4423-92cc-c008315061fd",
          "showTitle": false,
          "title": ""
        },
        "colab": {
          "base_uri": "https://localhost:8080/"
        },
        "id": "T6kdnR033Iwj",
        "outputId": "23d64a24-8b98-48fd-d142-067f899ee2e3"
      },
      "outputs": [
        {
          "output_type": "execute_result",
          "data": {
            "text/plain": [
              "[[1, 2], [2, 3], [2, 4], [4, 5], [6, 7], [7, 8]]"
            ]
          },
          "metadata": {},
          "execution_count": 7
        }
      ],
      "source": [
        "L = [[1, 2], [2, 3], [2, 4], [4, 5], [6, 7], [7, 8]]\n",
        "r = sc.parallelize(L)\n",
        "r.collect()"
      ]
    },
    {
      "cell_type": "code",
      "source": [],
      "metadata": {
        "id": "XNuxHQwm6Mtw"
      },
      "execution_count": null,
      "outputs": []
    },
    {
      "cell_type": "code",
      "execution_count": null,
      "metadata": {
        "application/vnd.databricks.v1+cell": {
          "cellMetadata": {
            "byteLimit": 2048000,
            "rowLimit": 10000
          },
          "inputWidgets": {},
          "nuid": "1ca95f88-375f-477c-9544-b9283c209231",
          "showTitle": false,
          "title": ""
        },
        "id": "ZdRT3qc_5R8N"
      },
      "outputs": [],
      "source": [
        "# MAP\n",
        "def map_ccf(r):\n",
        "  r1 = r.map(lambda x:(int(x[1]),int(x[0])))\n",
        "  return r.union(r1)"
      ]
    },
    {
      "cell_type": "code",
      "execution_count": null,
      "metadata": {
        "application/vnd.databricks.v1+cell": {
          "cellMetadata": {
            "byteLimit": 2048000,
            "rowLimit": 10000
          },
          "inputWidgets": {},
          "nuid": "017820f3-4dae-4a4a-8a43-6539c5013aad",
          "showTitle": false,
          "title": ""
        },
        "id": "Mevzl59m5mgT"
      },
      "outputs": [],
      "source": [
        "# CCF-Iterate-Reduce\n",
        "def reduce_ccf_iterate(r_map):\n",
        "    # Chercher la valeur minimale\n",
        "    v_min_1 = r_map.reduceByKey(lambda x,y:min(x,y))\n",
        "    v_min = v_min_1.map(lambda x: (x[0],x[0]) if x[0]<x[1] else (x[0],x[1])).partitionBy(100).cache()\n",
        "    # Premier emit : if(min < key) => emit(key, min)\n",
        "    emit_1 = v_min.filter(lambda x: x[0]>x[1])\n",
        "\n",
        "    # Deuxième emit : if(min != value) => emit(value, min)\n",
        "    min_value = r_map.join(v_min).filter(lambda x:x[0]>x[1][1]).filter(lambda x: x[1][0] != x[1][1])\n",
        "    NewPair = min_value.count()\n",
        "    emit_2 = min_value.map(lambda x:(x[1][0],x[1][1]))\n",
        "    return NewPair,emit_1.union(emit_2)\n"
      ]
    },
    {
      "cell_type": "code",
      "execution_count": null,
      "metadata": {
        "application/vnd.databricks.v1+cell": {
          "cellMetadata": {
            "byteLimit": 2048000,
            "rowLimit": 10000
          },
          "inputWidgets": {},
          "nuid": "50eb9ec0-99d7-42a2-9190-4d06ce0512aa",
          "showTitle": false,
          "title": ""
        },
        "id": "oCpfKp0M8O6R"
      },
      "outputs": [],
      "source": [
        "r_map = map_ccf(r)\n",
        "# newPair, r_reduce = reduce_ccf_iterate(r_map)\n",
        "# r_reduce.collect()"
      ]
    },
    {
      "cell_type": "code",
      "execution_count": null,
      "metadata": {
        "application/vnd.databricks.v1+cell": {
          "cellMetadata": {
            "byteLimit": 2048000,
            "rowLimit": 10000
          },
          "inputWidgets": {},
          "nuid": "b050f68e-bca7-4c9f-9cac-4b737ccc0e9c",
          "showTitle": false,
          "title": ""
        },
        "id": "gebS_gG-C1lI"
      },
      "outputs": [],
      "source": [
        "# CCF-Iterate (w. secondary sorting)\n",
        "def cff_second_iterate(r_map):\n",
        "\n",
        "  # List de valeurs triée et emit minV alue < key\n",
        "  min_key = r_map.groupByKey().mapValues(list).map(lambda x: (x[0],sorted(x[1]))).filter(lambda x:x[0]>x[1][0]).partitionBy(100).cache()\n",
        "  min_key_emit = min_key.map(lambda x:(x[0],x[1][0]))\n",
        "  # Emit les tuple (value, minV alue)\n",
        "  value_min_emit = min_key.flatMap(lambda x: [(value, x[1][0]) for value in x[1][1:]])\n",
        "\n",
        "  # Count the new pair\n",
        "  newPair = value_min_emit.count()\n",
        "  return newPair, min_key_emit.union(value_min_emit)"
      ]
    },
    {
      "cell_type": "code",
      "execution_count": null,
      "metadata": {
        "application/vnd.databricks.v1+cell": {
          "cellMetadata": {
            "byteLimit": 2048000,
            "rowLimit": 10000
          },
          "inputWidgets": {},
          "nuid": "b39fc3b7-d655-4b4e-9487-1df0dc686c42",
          "showTitle": false,
          "title": ""
        },
        "colab": {
          "base_uri": "https://localhost:8080/"
        },
        "id": "eoRsAGCe_0c3",
        "outputId": "5befabf3-0e2f-49d1-fdc0-ac38deec953f"
      },
      "outputs": [
        {
          "output_type": "stream",
          "name": "stdout",
          "text": [
            "Out[15]: [(2, 1),\n (3, 2),\n (4, 2),\n (5, 4),\n (7, 6),\n (8, 7),\n (3, 1),\n (4, 1),\n (5, 2),\n (8, 6)]"
          ]
        }
      ],
      "source": [
        "newPair, cff_r = cff_second_iterate(r_map)\n",
        "cff_r.collect()"
      ]
    },
    {
      "cell_type": "code",
      "execution_count": null,
      "metadata": {
        "application/vnd.databricks.v1+cell": {
          "cellMetadata": {
            "byteLimit": 2048000,
            "rowLimit": 10000
          },
          "inputWidgets": {},
          "nuid": "58085434-a1d1-48e4-abb6-a69ad4cee245",
          "showTitle": false,
          "title": ""
        },
        "id": "UG3sqDtW9ya9"
      },
      "outputs": [],
      "source": [
        "# Etape CCF_Dedup\n",
        "def CCF_Dedup(cff_r):\n",
        "  map_r_cff = cff_r.map(lambda x : ((x[0],x[1]),0))\n",
        "  dedup = map_r_cff.reduceByKey(lambda x,y:x+y).map(lambda x: (x[0][0],x[0][1]))\n",
        "  return dedup"
      ]
    },
    {
      "cell_type": "code",
      "execution_count": null,
      "metadata": {
        "application/vnd.databricks.v1+cell": {
          "cellMetadata": {
            "byteLimit": 2048000,
            "rowLimit": 10000
          },
          "inputWidgets": {},
          "nuid": "d949dfd2-87d5-4ebc-9483-93df8132e022",
          "showTitle": false,
          "title": ""
        },
        "colab": {
          "base_uri": "https://localhost:8080/"
        },
        "id": "c4T9m-s4KF41",
        "outputId": "c16e286d-5023-474f-b762-62b06c2a7f62"
      },
      "outputs": [
        {
          "output_type": "stream",
          "name": "stdout",
          "text": [
            "Out[16]: [(8, 6),\n (8, 7),\n (2, 1),\n (3, 1),\n (3, 2),\n (5, 4),\n (4, 1),\n (5, 2),\n (4, 2),\n (7, 6)]"
          ]
        }
      ],
      "source": [
        "CCF_Dedup(cff_r).collect()"
      ]
    },
    {
      "cell_type": "code",
      "execution_count": null,
      "metadata": {
        "application/vnd.databricks.v1+cell": {
          "cellMetadata": {
            "byteLimit": 2048000,
            "rowLimit": 10000
          },
          "inputWidgets": {},
          "nuid": "13030d0d-7b9f-4684-86bb-6ed0162ac156",
          "showTitle": false,
          "title": ""
        },
        "id": "SXXYTzMMtZLg"
      },
      "outputs": [],
      "source": [
        "import time\n",
        "def combine_iterate_1(r):\n",
        "    newPair = 1\n",
        "    newPairs = []\n",
        "    i = 0\n",
        "    iters = []\n",
        "    T_start = time.time()\n",
        "    iters_times = []\n",
        "    while newPair > 0:\n",
        "        T_start_iter = time.time()\n",
        "        r_map = map_ccf(r)\n",
        "        newPair, r_reduce = reduce_ccf_iterate(r_map)\n",
        "        r = CCF_Dedup(r_reduce)\n",
        "        T_end_iter = time.time()\n",
        "        iter_time = T_end_iter - T_start_iter\n",
        "        iters_times.append(iter_time)\n",
        "        newPairs.append(newPair)\n",
        "        iters.append(i)\n",
        "        i = i+1\n",
        "        print('iterate: %d, newPair: %d, Iteration time: %s s' %((i,newPair,iter_time)))\n",
        "    else :\n",
        "        T_end = time.time()\n",
        "        print('Total execute time:%s s' % ((T_end - T_start)))\n",
        "        return iters_times, iters, newPairs, r"
      ]
    },
    {
      "cell_type": "code",
      "execution_count": null,
      "metadata": {
        "application/vnd.databricks.v1+cell": {
          "cellMetadata": {
            "byteLimit": 2048000,
            "rowLimit": 10000
          },
          "inputWidgets": {},
          "nuid": "e7d36204-6dcc-43b4-a412-c4601e33f045",
          "showTitle": false,
          "title": ""
        },
        "id": "aIj8ZVlwU1RR"
      },
      "outputs": [],
      "source": [
        "import time\n",
        "def combine_iterate_2(r):\n",
        "    NewPair = 1\n",
        "    i = 0\n",
        "    NewPair_list = []\n",
        "    iterat_list = []\n",
        "    T = []\n",
        "    T1 = time.time()\n",
        "    while NewPair > 0:\n",
        "        r_map = map_ccf(r)\n",
        "        NewPair, r_reduce = cff_second_iterate(r_map)\n",
        "        r = CCF_Dedup(r_reduce)\n",
        "        T2 = time.time()\n",
        "        T.append(T2 - T1)\n",
        "        iterat_list.append(i)\n",
        "        NewPair_list.append(NewPair)\n",
        "        i = i+1\n",
        "        print('Execute time:%s s' % ((T2 - T1)))\n",
        "        print('iterate : %d,NewPair : %d' %((i,NewPair)))\n",
        "    else :\n",
        "        T2 = time.time()\n",
        "        print('Total execute time:%s s' % ((T2 - T1)))\n",
        "        return T,iterat_list,NewPair_list,r"
      ]
    },
    {
      "cell_type": "code",
      "execution_count": null,
      "metadata": {
        "application/vnd.databricks.v1+cell": {
          "cellMetadata": {
            "byteLimit": 2048000,
            "rowLimit": 10000
          },
          "inputWidgets": {},
          "nuid": "84b219c7-d7b2-4db6-9bf9-7b49db2aabe0",
          "showTitle": false,
          "title": ""
        },
        "id": "qlwQTZKjVvZS",
        "outputId": "9c1aee30-81dc-4998-ca56-2fc47b6c7bba"
      },
      "outputs": [
        {
          "output_type": "stream",
          "name": "stdout",
          "text": [
            "Execute time:1.1826796531677246 s\niterate : 1,NewPair : 4\nExecute time:10.065488815307617 s\niterate : 2,NewPair : 9\nExecute time:18.912254571914673 s\niterate : 3,NewPair : 4\nExecute time:27.84720015525818 s\niterate : 4,NewPair : 0\nTotal execute time:27.847314596176147 s\n"
          ]
        },
        {
          "output_type": "display_data",
          "data": {
            "text/plain": [
              "\u001b[0;31m---------------------------------------------------------------------------\u001b[0m\n\u001b[0;31mValueError\u001b[0m                                Traceback (most recent call last)\n\u001b[0;32m<command-3884738723935462>\u001b[0m in \u001b[0;36m<cell line: 1>\u001b[0;34m()\u001b[0m\n\u001b[0;32m----> 1\u001b[0;31m \u001b[0miterat_list\u001b[0m\u001b[0;34m,\u001b[0m\u001b[0mNewPair_list\u001b[0m\u001b[0;34m,\u001b[0m\u001b[0mr\u001b[0m \u001b[0;34m=\u001b[0m \u001b[0mcombine_iterate_2\u001b[0m\u001b[0;34m(\u001b[0m\u001b[0mr\u001b[0m\u001b[0;34m)\u001b[0m\u001b[0;34m\u001b[0m\u001b[0;34m\u001b[0m\u001b[0m\n\u001b[0m\u001b[1;32m      2\u001b[0m \u001b[0;31m# r.collect(),iterat_list,NewPair_list\u001b[0m\u001b[0;34m\u001b[0m\u001b[0;34m\u001b[0m\u001b[0;34m\u001b[0m\u001b[0m\n\n\u001b[0;31mValueError\u001b[0m: too many values to unpack (expected 3)"
            ]
          },
          "metadata": {
            "application/vnd.databricks.v1+output": {
              "arguments": {},
              "data": "\u001b[0;31m---------------------------------------------------------------------------\u001b[0m\n\u001b[0;31mValueError\u001b[0m                                Traceback (most recent call last)\n\u001b[0;32m<command-3884738723935462>\u001b[0m in \u001b[0;36m<cell line: 1>\u001b[0;34m()\u001b[0m\n\u001b[0;32m----> 1\u001b[0;31m \u001b[0miterat_list\u001b[0m\u001b[0;34m,\u001b[0m\u001b[0mNewPair_list\u001b[0m\u001b[0;34m,\u001b[0m\u001b[0mr\u001b[0m \u001b[0;34m=\u001b[0m \u001b[0mcombine_iterate_2\u001b[0m\u001b[0;34m(\u001b[0m\u001b[0mr\u001b[0m\u001b[0;34m)\u001b[0m\u001b[0;34m\u001b[0m\u001b[0;34m\u001b[0m\u001b[0m\n\u001b[0m\u001b[1;32m      2\u001b[0m \u001b[0;31m# r.collect(),iterat_list,NewPair_list\u001b[0m\u001b[0;34m\u001b[0m\u001b[0;34m\u001b[0m\u001b[0;34m\u001b[0m\u001b[0m\n\n\u001b[0;31mValueError\u001b[0m: too many values to unpack (expected 3)",
              "errorSummary": "<span class='ansi-red-fg'>ValueError</span>: too many values to unpack (expected 3)",
              "errorTraceType": "ansi",
              "metadata": {},
              "type": "ipynbError"
            }
          }
        }
      ],
      "source": [
        "iterat_list,NewPair_list,r = combine_iterate_2(r)\n",
        "# r.collect(),iterat_list,NewPair_list"
      ]
    },
    {
      "cell_type": "code",
      "execution_count": null,
      "metadata": {
        "application/vnd.databricks.v1+cell": {
          "cellMetadata": {
            "byteLimit": 2048000,
            "rowLimit": 10000
          },
          "inputWidgets": {},
          "nuid": "ee55bb6f-3f8d-40fa-9892-1809ee8543c9",
          "showTitle": false,
          "title": ""
        },
        "id": "4c8kIMXGsSkT"
      },
      "outputs": [],
      "source": [
        "# Data Load, Data clean\n",
        "rdd_txt = sc.textFile('/FileStore/tables/web_Google.txt').map(lambda x: x.split('\\t')).\\\n",
        "  filter(lambda x: not x[0].startswith('#')).map(lambda x: (int(x[0]),int(x[1])))"
      ]
    },
    {
      "cell_type": "code",
      "execution_count": null,
      "metadata": {
        "application/vnd.databricks.v1+cell": {
          "cellMetadata": {
            "byteLimit": 2048000,
            "rowLimit": 10000
          },
          "inputWidgets": {},
          "nuid": "118e6b8e-c053-468b-992f-da29c84792ab",
          "showTitle": false,
          "title": ""
        },
        "colab": {
          "base_uri": "https://localhost:8080/"
        },
        "id": "NPTflJAqSse2",
        "outputId": "2c60e303-66f6-4bdc-c909-20b952699e81"
      },
      "outputs": [
        {
          "output_type": "stream",
          "name": "stdout",
          "text": [
            "iterate: 1, newPair: 4, Iteration time: 2.499788999557495 s\niterate: 2, newPair: 9, Iteration time: 18.06307888031006 s\niterate: 3, newPair: 4, Iteration time: 49.003862142562866 s\niterate: 4, newPair: 0, Iteration time: 111.51815938949585 s\nTotal execute time:181.08543372154236 s\n"
          ]
        }
      ],
      "source": [
        "iters_times, iters, newPairs, r = combine_iterate_1(r)\n",
        "# r_map.collect()"
      ]
    },
    {
      "cell_type": "code",
      "execution_count": null,
      "metadata": {
        "application/vnd.databricks.v1+cell": {
          "cellMetadata": {
            "byteLimit": 2048000,
            "rowLimit": 10000
          },
          "inputWidgets": {},
          "nuid": "42a76ae3-ad17-43a4-a83c-c07155d073a1",
          "showTitle": false,
          "title": ""
        },
        "colab": {
          "base_uri": "https://localhost:8080/"
        },
        "id": "0TCRmGde_ikO",
        "outputId": "9b6b5cb3-e5e1-428d-cc67-712d91f14c2f"
      },
      "outputs": [
        {
          "output_type": "stream",
          "name": "stdout",
          "text": [
            "iterate: 1, newPair: 8552232, Iteration time: 51.71148943901062 s\niterate: 2, newPair: 4758451, Iteration time: 71.72819185256958 s\niterate: 3, newPair: 3278772, Iteration time: 148.0484266281128 s\niterate: 4, newPair: 3888454, Iteration time: 307.09818840026855 s\niterate: 5, newPair: 1905323, Iteration time: 441.1291308403015 s\niterate: 6, newPair: 86783, Iteration time: 655.3581163883209 s\niterate: 7, newPair: 1318, Iteration time: 1286.682455778122 s\niterate: 8, newPair: 0, Iteration time: 2729.0079452991486 s\nTotal execute time:5690.764791250229 s\n"
          ]
        }
      ],
      "source": [
        "iters_times, iters, newPairs, r = combine_iterate_1(rdd_txt)"
      ]
    },
    {
      "cell_type": "code",
      "execution_count": null,
      "metadata": {
        "application/vnd.databricks.v1+cell": {
          "cellMetadata": {
            "byteLimit": 2048000,
            "rowLimit": 10000
          },
          "inputWidgets": {},
          "nuid": "855b4601-3d33-4b5a-b81c-dfa53e0e268e",
          "showTitle": false,
          "title": ""
        },
        "colab": {
          "base_uri": "https://localhost:8080/",
          "height": 236
        },
        "id": "x_9ZzpdI_vMX",
        "outputId": "fb41f7c1-cdc0-4fe9-a688-457eeff65f22"
      },
      "outputs": [
        {
          "output_type": "stream",
          "name": "stdout",
          "text": [
            "Out[10]: Text(0.5, 0, 'itération')"
          ]
        },
        {
          "output_type": "display_data",
          "data": {
            "image/png": "[encoded data removed]"
          },
          "metadata": {
            "application/vnd.databricks.v1+output": {
              "addedWidgets": {},
              "arguments": {},
              "data": "data:image/png;base64,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\n",
              "datasetInfos": [],
              "metadata": {},
              "removedWidgets": [],
              "type": "image"
            }
          }
        }
      ],
      "source": [
        "import matplotlib.pyplot as plt\n",
        "plt.plot(iters,newPairs)\n",
        "# plt.plot(iterat_list,t)\n",
        "plt.ylabel(\"New Pair\")\n",
        "plt.xlabel(\"itération\")"
      ]
    },
    {
      "cell_type": "code",
      "execution_count": null,
      "metadata": {
        "application/vnd.databricks.v1+cell": {
          "cellMetadata": {
            "byteLimit": 2048000,
            "rowLimit": 10000
          },
          "inputWidgets": {},
          "nuid": "aadfbe5f-67e1-4d3f-ba55-f6fa7a427352",
          "showTitle": false,
          "title": ""
        },
        "colab": {
          "base_uri": "https://localhost:8080/",
          "height": 466
        },
        "id": "sE3nlJTR_7os",
        "outputId": "088266c6-356d-45a1-a013-4cd0ac90ad34"
      },
      "outputs": [
        {
          "output_type": "stream",
          "name": "stdout",
          "text": [
            "Out[11]: Text(0.5, 0, 'itération')"
          ]
        },
        {
          "output_type": "display_data",
          "data": {
            "image/png": "[encoded data removed]"
          },
          "metadata": {
            "application/vnd.databricks.v1+output": {
              "addedWidgets": {},
              "arguments": {},
              "data": "data:image/png;base64,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\n",
              "datasetInfos": [],
              "metadata": {},
              "removedWidgets": [],
              "type": "image"
            }
          }
        }
      ],
      "source": [
        "plt.plot(iters,iters_times)\n",
        "plt.ylabel(\"Execute time\")\n",
        "plt.xlabel(\"itération\")"
      ]
    },
    {
      "cell_type": "code",
      "execution_count": null,
      "metadata": {
        "application/vnd.databricks.v1+cell": {
          "cellMetadata": {
            "byteLimit": 2048000,
            "rowLimit": 10000
          },
          "inputWidgets": {},
          "nuid": "98ea265e-67b1-4420-98f2-877f2c9abddc",
          "showTitle": false,
          "title": ""
        },
        "colab": {
          "base_uri": "https://localhost:8080/"
        },
        "id": "EbN3pNI-zVOh",
        "outputId": "6d38bea6-6556-4e9b-9976-0e88dcf6e3b7"
      },
      "outputs": [
        {
          "output_type": "stream",
          "name": "stdout",
          "text": [
            "Execute time:17.928903102874756 s\niterate : 1,NewPair : 8670951\nExecute time:58.91169500350952 s\niterate : 2,NewPair : 4821525\nExecute time:90.40827655792236 s\niterate : 3,NewPair : 3278772\nExecute time:119.11889243125916 s\niterate : 4,NewPair : 3888454\nExecute time:146.97083687782288 s\niterate : 5,NewPair : 1905323\nExecute time:168.49880981445312 s\niterate : 6,NewPair : 86783\nExecute time:185.89400148391724 s\niterate : 7,NewPair : 1318\nExecute time:200.58122992515564 s\niterate : 8,NewPair : 0\nTotal execute time:200.58132338523865 s\n"
          ]
        }
      ],
      "source": [
        "t,iterat_list,NewPair_list,r = combine_iterate_2(rdd_txt)\n",
        "# r.collect(),iterat_list,NewPair_list"
      ]
    },
    {
      "cell_type": "code",
      "execution_count": null,
      "metadata": {
        "application/vnd.databricks.v1+cell": {
          "cellMetadata": {
            "byteLimit": 2048000,
            "rowLimit": 10000
          },
          "inputWidgets": {},
          "nuid": "6b113732-539e-4895-ab5e-623872d10cbf",
          "showTitle": false,
          "title": ""
        },
        "colab": {
          "base_uri": "https://localhost:8080/"
        },
        "id": "i-BSn44K5PL3",
        "outputId": "9c9f5014-78c4-49dd-e9ba-8355f3435040"
      },
      "outputs": [
        {
          "output_type": "stream",
          "name": "stdout",
          "text": [
            "Out[21]: [17.928903102874756,\n 58.91169500350952,\n 90.40827655792236,\n 119.11889243125916,\n 146.97083687782288,\n 168.49880981445312,\n 185.89400148391724,\n 200.58122992515564]"
          ]
        }
      ],
      "source": [
        "t"
      ]
    },
    {
      "cell_type": "code",
      "execution_count": null,
      "metadata": {
        "application/vnd.databricks.v1+cell": {
          "cellMetadata": {
            "byteLimit": 2048000,
            "rowLimit": 10000
          },
          "inputWidgets": {},
          "nuid": "2236a9a8-834a-4b7b-9c9b-4f8444d93f9f",
          "showTitle": false,
          "title": ""
        },
        "colab": {
          "base_uri": "https://localhost:8080/",
          "height": 482
        },
        "id": "-2GQDslLqw1G",
        "outputId": "084435a2-4a81-4915-ddde-c0c2344ba0a7"
      },
      "outputs": [
        {
          "output_type": "stream",
          "name": "stdout",
          "text": [
            "Out[22]: Text(0.5, 0, 'itération')"
          ]
        },
        {
          "output_type": "display_data",
          "data": {
            "image/png": "[encoded data removed]"
          },
          "metadata": {
            "application/vnd.databricks.v1+output": {
              "addedWidgets": {},
              "arguments": {},
              "data": "data:image/png;base64,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\n",
              "datasetInfos": [],
              "metadata": {},
              "removedWidgets": [],
              "type": "image"
            }
          }
        }
      ],
      "source": [
        "import matplotlib.pyplot as plt\n",
        "plt.plot(iterat_list,NewPair_list)\n",
        "# plt.plot(iterat_list,t)\n",
        "plt.ylabel(\"New Pair\")\n",
        "plt.xlabel(\"itération\")"
      ]
    },
    {
      "cell_type": "code",
      "execution_count": null,
      "metadata": {
        "application/vnd.databricks.v1+cell": {
          "cellMetadata": {
            "byteLimit": 2048000,
            "rowLimit": 10000
          },
          "inputWidgets": {},
          "nuid": "4e9386be-e174-4fd5-8295-7f6fa55e8bfd",
          "showTitle": false,
          "title": ""
        },
        "colab": {
          "base_uri": "https://localhost:8080/",
          "height": 466
        },
        "id": "Tr_7H3QO5l4z",
        "outputId": "94e90de1-5226-49d6-d74d-c869d95a5ad4"
      },
      "outputs": [
        {
          "output_type": "stream",
          "name": "stdout",
          "text": [
            "Out[23]: Text(0.5, 0, 'itération')"
          ]
        },
        {
          "output_type": "display_data",
          "data": {
            "image/png": "[encoded data removed]"
          },
          "metadata": {
            "application/vnd.databricks.v1+output": {
              "addedWidgets": {},
              "arguments": {},
              "data": "data:image/png;base64,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\n",
              "datasetInfos": [],
              "metadata": {},
              "removedWidgets": [],
              "type": "image"
            }
          }
        }
      ],
      "source": [
        "plt.plot(iterat_list,t)\n",
        "plt.ylabel(\"Execute time\")\n",
        "plt.xlabel(\"itération\")"
      ]
    },
    {
      "cell_type": "code",
      "source": [
        "!pip install networkx"
      ],
      "metadata": {
        "colab": {
          "base_uri": "https://localhost:8080/"
        },
        "id": "Kt7Cyyphzli6",
        "outputId": "6c2b6225-e7ca-4d7f-9328-f39a8b6404aa"
      },
      "execution_count": 1,
      "outputs": [
        {
          "output_type": "stream",
          "name": "stdout",
          "text": [
            "Looking in indexes: https://pypi.org/simple, https://us-python.pkg.dev/colab-wheels/public/simple/\n",
            "Requirement already satisfied: networkx in /usr/local/lib/python3.9/dist-packages (3.0)\n"
          ]
        }
      ]
    },
    {
      "cell_type": "code",
      "execution_count": 2,
      "metadata": {
        "application/vnd.databricks.v1+cell": {
          "cellMetadata": {
            "byteLimit": 2048000,
            "rowLimit": 10000
          },
          "inputWidgets": {},
          "nuid": "3bb056bc-4157-462d-a367-6cc055f0bca9",
          "showTitle": false,
          "title": ""
        },
        "id": "x2q0V0kWj_f4"
      },
      "outputs": [],
      "source": [
        "import networkx as nx\n",
        "import matplotlib.pyplot as plt\n"
      ]
    },
    {
      "cell_type": "code",
      "execution_count": 8,
      "metadata": {
        "application/vnd.databricks.v1+cell": {
          "cellMetadata": {},
          "inputWidgets": {},
          "nuid": "f6617996-cc42-42d1-a11e-c40be05a584d",
          "showTitle": false,
          "title": ""
        },
        "id": "hCsLo6h7lnb5"
      },
      "outputs": [],
      "source": [
        "G = nx.Graph()\n",
        "color_map = []\n",
        "graph_edges = r.collect()\n",
        "clusters = r.map(lambda x : x[1]).distinct().collect()\n",
        "for edge in graph_edges:\n",
        "  G.add_edge(edge[0],edge[1])\n",
        "for node in G:\n",
        "  if node in clusters:\n",
        "    color_map.append('green')\n",
        "  else:\n",
        "    color_map.append('red')"
      ]
    },
    {
      "cell_type": "code",
      "execution_count": 12,
      "metadata": {
        "application/vnd.databricks.v1+cell": {
          "cellMetadata": {},
          "inputWidgets": {},
          "nuid": "a84f6d1e-ace1-4e10-8449-9eb4421c2c98",
          "showTitle": false,
          "title": ""
        },
        "id": "a6_2f6IOntBx",
        "colab": {
          "base_uri": "https://localhost:8080/",
          "height": 516
        },
        "outputId": "14b682f4-5e55-4ee2-fa80-7828d86da27e"
      },
      "outputs": [
        {
          "output_type": "display_data",
          "data": {
            "text/plain": [
              "<Figure size 640x480 with 1 Axes>"
            ],
            "image/png": "[encoded data removed]"
          },
          "metadata": {}
        }
      ],
      "source": [
        "nx.draw(G,node_color=color_map, with_labels=True)\n",
        "plt.show()"
      ]
    }
  ],
  "metadata": {
    "accelerator": "GPU",
    "application/vnd.databricks.v1+notebook": {
      "dashboards": [],
      "language": "python",
      "notebookMetadata": {
        "pythonIndentUnit": 4
      },
      "notebookName": "Projet_Big_Data",
      "notebookOrigID": 3884738723935449,
      "widgets": {}
    },
    "colab": {
      "provenance": []
    },
    "gpuClass": "standard",
    "kernelspec": {
      "display_name": "Python 3",
      "name": "python3"
    },
    "language_info": {
      "name": "python"
    }
  },
  "nbformat": 4,
  "nbformat_minor": 0
}